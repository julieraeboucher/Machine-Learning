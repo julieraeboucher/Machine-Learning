{
 "cells": [
  {
   "cell_type": "markdown",
   "id": "acf30f10-3762-4370-87a1-88ddad42ffb9",
   "metadata": {},
   "source": [
    "A retailer wants to create a simulation to predict the profit on the sales of a certain tool she carries. She knows the profit is a function of several factors, for which she has historical data:\n",
    "```\n",
    "Units Sold: Normal distribution, with a mean of 26 units and a standard deviation of 5.7 units.\n",
    "\n",
    "Price: Discrete distribution. 55% of the time the price is 38 dollars, 30% of the time the price is 41.50 dollars, and 15% of the time is 36.25 dollars.\n",
    "\n",
    "Cost: Uniform distribution, with a max of 33.72 dollars and a min of 26.88 dollars.\n",
    "\n",
    "Resource Factor: Normal distribution, with a mean of 3 and a standard deviation of 1.2.\n",
    "\n",
    "The function for profit is as follows:\n",
    "\n",
    "Profit = (RF * (Units sold) * (Price)) - ((0.2) * (RF) * (Units sold) * (Cost)) + $320\n",
    "```\n",
    "Create a simulation that has 100 rows of monthly profits. Once you have completed this simulation exercise, prepare a report stating what you did, what you learned, and your results. You have the option to complete your simulation in Python. \n",
    "\n",
    "`Resouce: chatGPT`\n",
    "\n",
    "---"
   ]
  },
  {
   "cell_type": "markdown",
   "id": "e3d1a2ed-4666-4330-bc9a-0f3f9bfc8f54",
   "metadata": {},
   "source": [
    "To create the simulation for the retailer, we need to simulate the different factors that affect the profit and calculate the profit for each combination of factors. We will use Python to simulate the data and calculate the profit.\n",
    "\n",
    "First, let's import the necessary libraries and set the seed for reproducibility."
   ]
  },
  {
   "cell_type": "code",
   "execution_count": 1,
   "id": "117742f4-bf73-44a2-845f-358910b5bcb5",
   "metadata": {},
   "outputs": [],
   "source": [
    "import numpy as np\n",
    "import pandas as pd\n",
    "np.random.seed(42)"
   ]
  },
  {
   "cell_type": "markdown",
   "id": "ddb0b3f1-f2d1-4e5f-b67b-305a2434e778",
   "metadata": {},
   "source": [
    "Next, we will simulate the data for each factor.\n"
   ]
  },
  {
   "cell_type": "code",
   "execution_count": 3,
   "id": "c3a918fc-541e-436d-b250-139c5bc3c66a",
   "metadata": {},
   "outputs": [],
   "source": [
    "# Units sold\n",
    "units_sold = np.random.normal(26, 5.7, 100)\n",
    "\n",
    "# Price\n",
    "price_dist = [38, 41.5, 36.25]\n",
    "price_prob = [0.55, 0.3, 0.15]\n",
    "price = np.random.choice(price_dist, 100, p=price_prob)\n",
    "\n",
    "# Cost\n",
    "cost = np.random.uniform(26.88, 33.72, 100)\n",
    "\n",
    "# Resource factor\n",
    "rf = np.random.normal(3, 1.2, 100)\n"
   ]
  },
  {
   "cell_type": "markdown",
   "id": "bf8b1b20-bc46-437e-8dde-5176c8851a39",
   "metadata": {},
   "source": [
    "Now, we can use these simulated factors to calculate the profit for each combination."
   ]
  },
  {
   "cell_type": "code",
   "execution_count": 4,
   "id": "d5544c5c-1d51-4db9-ada3-2d80a8dd0910",
   "metadata": {},
   "outputs": [],
   "source": [
    "# Profit function\n",
    "def profit(units_sold, price, cost, rf):\n",
    "    return (rf * units_sold * price) - (0.2 * rf * units_sold * cost) + 320\n",
    "\n",
    "# Calculate profit\n",
    "profits = profit(units_sold, price, cost, rf)\n"
   ]
  },
  {
   "cell_type": "markdown",
   "id": "dbf5539b-cb43-4ee0-bec8-96de0c552470",
   "metadata": {},
   "source": [
    "Finally, we can create a DataFrame to store the simulated data and the calculated profits."
   ]
  },
  {
   "cell_type": "code",
   "execution_count": 5,
   "id": "eb8d0733-58c0-4041-ae45-afe21efbf0c0",
   "metadata": {},
   "outputs": [],
   "source": [
    "# Create DataFrame\n",
    "data = {'Units Sold': units_sold,\n",
    "        'Price': price,\n",
    "        'Cost': cost,\n",
    "        'Resource Factor': rf,\n",
    "        'Profit': profits}\n",
    "\n",
    "df = pd.DataFrame(data)\n"
   ]
  },
  {
   "cell_type": "markdown",
   "id": "b2954fe4-d848-4c77-9b60-bb1b2132a7b3",
   "metadata": {},
   "source": [
    "Our simulation is complete! We have a DataFrame with 100 rows of monthly profits based on the simulated factors.\n",
    "\n",
    "To summarize what we did:\n",
    "\n",
    "1. We simulated the data for each factor using numpy.random functions.\n",
    "2. We defined a function to calculate the profit based on the simulated factors.\n",
    "3. We applied the profit function to the simulated data to calculate the profits.\n",
    "4. We stored the simulated data and the calculated profits in a pandas DataFrame.\n",
    "\n",
    "From the results of the simulation, we can analyze the average profit, the variability of the profits, and the distribution of the factors. We can also use this simulation to conduct sensitivity analysis by varying the parameters and observing how the profits change.\n",
    "\n",
    "Overall, this simulation exercise allowed us to understand how the different factors affect the profit and provided insights into the retailer's business."
   ]
  },
  {
   "cell_type": "code",
   "execution_count": 7,
   "id": "32afc0f1-2984-447f-ab17-77e9b11ec1a2",
   "metadata": {},
   "outputs": [
    {
     "data": {
      "text/html": [
       "<div><div id=33fb511b-3fd2-42af-87ca-bf70606e46f2 style=\"display:none; background-color:#9D6CFF; color:white; width:200px; height:30px; padding-left:5px; border-radius:4px; flex-direction:row; justify-content:space-around; align-items:center;\" onmouseover=\"this.style.backgroundColor='#BA9BF8'\" onmouseout=\"this.style.backgroundColor='#9D6CFF'\" onclick=\"window.commands?.execute('create-mitosheet-from-dataframe-output');\">See Full Dataframe in Mito</div> <script> if (window.commands?.hasCommand('create-mitosheet-from-dataframe-output')) document.getElementById('33fb511b-3fd2-42af-87ca-bf70606e46f2').style.display = 'flex' </script> <table border=\"1\" class=\"dataframe\">\n",
       "  <thead>\n",
       "    <tr style=\"text-align: right;\">\n",
       "      <th></th>\n",
       "      <th>Units Sold</th>\n",
       "      <th>Price</th>\n",
       "      <th>Cost</th>\n",
       "      <th>Resource Factor</th>\n",
       "      <th>Profit</th>\n",
       "    </tr>\n",
       "  </thead>\n",
       "  <tbody>\n",
       "    <tr>\n",
       "      <th>0</th>\n",
       "      <td>28.831271</td>\n",
       "      <td>38.00</td>\n",
       "      <td>32.316509</td>\n",
       "      <td>4.520293</td>\n",
       "      <td>4430.045475</td>\n",
       "    </tr>\n",
       "    <tr>\n",
       "      <th>1</th>\n",
       "      <td>25.211893</td>\n",
       "      <td>38.00</td>\n",
       "      <td>30.318038</td>\n",
       "      <td>2.150797</td>\n",
       "      <td>2051.771826</td>\n",
       "    </tr>\n",
       "    <tr>\n",
       "      <th>2</th>\n",
       "      <td>29.691825</td>\n",
       "      <td>38.00</td>\n",
       "      <td>30.826023</td>\n",
       "      <td>3.532583</td>\n",
       "      <td>3659.114909</td>\n",
       "    </tr>\n",
       "    <tr>\n",
       "      <th>3</th>\n",
       "      <td>34.681270</td>\n",
       "      <td>38.00</td>\n",
       "      <td>30.248821</td>\n",
       "      <td>3.929561</td>\n",
       "      <td>4674.247211</td>\n",
       "    </tr>\n",
       "    <tr>\n",
       "      <th>4</th>\n",
       "      <td>24.665326</td>\n",
       "      <td>36.25</td>\n",
       "      <td>28.215462</td>\n",
       "      <td>1.887683</td>\n",
       "      <td>1745.067621</td>\n",
       "    </tr>\n",
       "    <tr>\n",
       "      <th>...</th>\n",
       "      <td>...</td>\n",
       "      <td>...</td>\n",
       "      <td>...</td>\n",
       "      <td>...</td>\n",
       "      <td>...</td>\n",
       "    </tr>\n",
       "    <tr>\n",
       "      <th>95</th>\n",
       "      <td>17.657965</td>\n",
       "      <td>38.00</td>\n",
       "      <td>31.927215</td>\n",
       "      <td>4.770427</td>\n",
       "      <td>2983.085094</td>\n",
       "    </tr>\n",
       "    <tr>\n",
       "      <th>96</th>\n",
       "      <td>27.687886</td>\n",
       "      <td>36.25</td>\n",
       "      <td>30.671782</td>\n",
       "      <td>4.029192</td>\n",
       "      <td>3679.695019</td>\n",
       "    </tr>\n",
       "    <tr>\n",
       "      <th>97</th>\n",
       "      <td>27.488015</td>\n",
       "      <td>38.00</td>\n",
       "      <td>31.064170</td>\n",
       "      <td>2.808074</td>\n",
       "      <td>2773.599656</td>\n",
       "    </tr>\n",
       "    <tr>\n",
       "      <th>98</th>\n",
       "      <td>26.029147</td>\n",
       "      <td>36.25</td>\n",
       "      <td>29.750064</td>\n",
       "      <td>2.977181</td>\n",
       "      <td>2668.051122</td>\n",
       "    </tr>\n",
       "    <tr>\n",
       "      <th>99</th>\n",
       "      <td>24.662853</td>\n",
       "      <td>41.50</td>\n",
       "      <td>28.574480</td>\n",
       "      <td>1.796965</td>\n",
       "      <td>1905.934202</td>\n",
       "    </tr>\n",
       "  </tbody>\n",
       "</table></div>"
      ],
      "text/plain": [
       "    Units Sold  Price       Cost  Resource Factor       Profit\n",
       "0    28.831271  38.00  32.316509         4.520293  4430.045475\n",
       "1    25.211893  38.00  30.318038         2.150797  2051.771826\n",
       "2    29.691825  38.00  30.826023         3.532583  3659.114909\n",
       "3    34.681270  38.00  30.248821         3.929561  4674.247211\n",
       "4    24.665326  36.25  28.215462         1.887683  1745.067621\n",
       "..         ...    ...        ...              ...          ...\n",
       "95   17.657965  38.00  31.927215         4.770427  2983.085094\n",
       "96   27.687886  36.25  30.671782         4.029192  3679.695019\n",
       "97   27.488015  38.00  31.064170         2.808074  2773.599656\n",
       "98   26.029147  36.25  29.750064         2.977181  2668.051122\n",
       "99   24.662853  41.50  28.574480         1.796965  1905.934202\n",
       "\n",
       "[100 rows x 5 columns]"
      ]
     },
     "execution_count": 7,
     "metadata": {},
     "output_type": "execute_result"
    }
   ],
   "source": [
    "df"
   ]
  },
  {
   "cell_type": "code",
   "execution_count": null,
   "id": "c8f9c522-7b5f-46d1-9270-f640873a0a60",
   "metadata": {},
   "outputs": [],
   "source": []
  }
 ],
 "metadata": {
  "kernelspec": {
   "display_name": "Python 3 (ipykernel)",
   "language": "python",
   "name": "python3"
  },
  "language_info": {
   "codemirror_mode": {
    "name": "ipython",
    "version": 3
   },
   "file_extension": ".py",
   "mimetype": "text/x-python",
   "name": "python",
   "nbconvert_exporter": "python",
   "pygments_lexer": "ipython3",
   "version": "3.9.13"
  }
 },
 "nbformat": 4,
 "nbformat_minor": 5
}
