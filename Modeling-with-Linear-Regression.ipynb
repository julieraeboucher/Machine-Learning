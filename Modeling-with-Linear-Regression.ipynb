{
 "cells": [
  {
   "cell_type": "markdown",
   "id": "90b84a2b-8759-4e08-b668-aa0ff7555466",
   "metadata": {},
   "source": [
    "# Modeling with Linear Regression"
   ]
  },
  {
   "cell_type": "markdown",
   "id": "2b647f0e-1c48-4edc-94fa-03f6b2d10c0d",
   "metadata": {},
   "source": [
    "Y - intercept: \n",
    "\n",
    "`y = mx+b` (linear line)\n",
    "\n",
    "- m is your slope (rise over run)\n",
    "- x is 0\n",
    "- b is your y-int"
   ]
  },
  {
   "cell_type": "code",
   "execution_count": null,
   "id": "6b6df0fe-057d-4eb1-8fc1-576e293661ce",
   "metadata": {},
   "outputs": [],
   "source": []
  }
 ],
 "metadata": {
  "kernelspec": {
   "display_name": "Python 3 (ipykernel)",
   "language": "python",
   "name": "python3"
  },
  "language_info": {
   "codemirror_mode": {
    "name": "ipython",
    "version": 3
   },
   "file_extension": ".py",
   "mimetype": "text/x-python",
   "name": "python",
   "nbconvert_exporter": "python",
   "pygments_lexer": "ipython3",
   "version": "3.9.13"
  }
 },
 "nbformat": 4,
 "nbformat_minor": 5
}
