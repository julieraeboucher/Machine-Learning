{
 "cells": [
  {
   "cell_type": "markdown",
   "metadata": {},
   "source": [
    "# Linear Regression in Python"
   ]
  },
  {
   "cell_type": "markdown",
   "metadata": {},
   "source": [
    "## Import Packages"
   ]
  },
  {
   "cell_type": "code",
   "execution_count": 5,
   "metadata": {},
   "outputs": [],
   "source": [
    "import pandas as pd\n",
    "import numpy as np\n",
    "import matplotlib.pyplot as plt\n",
    "from pylab import *\n",
    "import seaborn as sns\n",
    "%matplotlib inline\n",
    "import statsmodels.api as sm\n",
    "import statsmodels.stats.api as sms\n",
    "from scipy.stats import boxcox"
   ]
  },
  {
   "cell_type": "markdown",
   "metadata": {},
   "source": [
    "## Read in Data"
   ]
  },
  {
   "cell_type": "code",
   "execution_count": 3,
   "metadata": {},
   "outputs": [],
   "source": [
    "#to import my data\n",
    "heights = pd.read_csv('C:/Users/meredith.dodd/Downloads/heights/heights.csv')"
   ]
  },
  {
   "cell_type": "code",
   "execution_count": 4,
   "metadata": {},
   "outputs": [
    {
     "data": {
      "text/html": [
       "<div>\n",
       "<style scoped>\n",
       "    .dataframe tbody tr th:only-of-type {\n",
       "        vertical-align: middle;\n",
       "    }\n",
       "\n",
       "    .dataframe tbody tr th {\n",
       "        vertical-align: top;\n",
       "    }\n",
       "\n",
       "    .dataframe thead th {\n",
       "        text-align: right;\n",
       "    }\n",
       "</style>\n",
       "<table border=\"1\" class=\"dataframe\">\n",
       "  <thead>\n",
       "    <tr style=\"text-align: right;\">\n",
       "      <th></th>\n",
       "      <th>AM_Height</th>\n",
       "      <th>PM_Height</th>\n",
       "    </tr>\n",
       "  </thead>\n",
       "  <tbody>\n",
       "    <tr>\n",
       "      <th>0</th>\n",
       "      <td>1728.75</td>\n",
       "      <td>1720.25</td>\n",
       "    </tr>\n",
       "    <tr>\n",
       "      <th>1</th>\n",
       "      <td>1538.25</td>\n",
       "      <td>1528.50</td>\n",
       "    </tr>\n",
       "    <tr>\n",
       "      <th>2</th>\n",
       "      <td>1462.25</td>\n",
       "      <td>1452.50</td>\n",
       "    </tr>\n",
       "    <tr>\n",
       "      <th>3</th>\n",
       "      <td>1782.50</td>\n",
       "      <td>1776.50</td>\n",
       "    </tr>\n",
       "    <tr>\n",
       "      <th>4</th>\n",
       "      <td>1671.00</td>\n",
       "      <td>1667.00</td>\n",
       "    </tr>\n",
       "  </tbody>\n",
       "</table>\n",
       "</div>"
      ],
      "text/plain": [
       "   AM_Height  PM_Height\n",
       "0    1728.75    1720.25\n",
       "1    1538.25    1528.50\n",
       "2    1462.25    1452.50\n",
       "3    1782.50    1776.50\n",
       "4    1671.00    1667.00"
      ]
     },
     "execution_count": 4,
     "metadata": {},
     "output_type": "execute_result"
    }
   ],
   "source": [
    "heights.head()"
   ]
  },
  {
   "cell_type": "markdown",
   "metadata": {},
   "source": [
    "## Test Assumptions"
   ]
  },
  {
   "cell_type": "markdown",
   "metadata": {},
   "source": [
    "### Linearity"
   ]
  },
  {
   "cell_type": "code",
   "execution_count": 6,
   "metadata": {},
   "outputs": [
    {
     "data": {
      "text/plain": [
       "<seaborn.axisgrid.PairGrid at 0x21ef1727320>"
      ]
     },
     "execution_count": 6,
     "metadata": {},
     "output_type": "execute_result"
    },
    {
     "data": {
      "image/png": "[encoded data removed]",
      "text/plain": [
       "<Figure size 360x360 with 6 Axes>"
      ]
     },
     "metadata": {},
     "output_type": "display_data"
    }
   ],
   "source": [
    "sns.pairplot(heights)"
   ]
  },
  {
   "cell_type": "markdown",
   "metadata": {},
   "source": [
    "*Looks pretty darn linear*"
   ]
  },
  {
   "cell_type": "markdown",
   "metadata": {},
   "source": [
    "### Homoscedasticity"
   ]
  },
  {
   "cell_type": "code",
   "execution_count": 8,
   "metadata": {},
   "outputs": [],
   "source": [
    "x = heights['AM_Height']\n",
    "y = heights['PM_Height']"
   ]
  },
  {
   "cell_type": "code",
   "execution_count": 9,
   "metadata": {},
   "outputs": [],
   "source": [
    "model = sm.OLS(y,x).fit()"
   ]
  },
  {
   "cell_type": "code",
   "execution_count": 10,
   "metadata": {},
   "outputs": [],
   "source": [
    "pred_val = model.fittedvalues.copy()\n",
    "true_val = heights['PM_Height'].values.copy()\n",
    "residual = true_val = pred_val"
   ]
  },
  {
   "cell_type": "code",
   "execution_count": 11,
   "metadata": {},
   "outputs": [
    {
     "data": {
      "image/png": "[encoded data removed]",
      "text/plain": [
       "<Figure size 432x180 with 1 Axes>"
      ]
     },
     "metadata": {},
     "output_type": "display_data"
    }
   ],
   "source": [
    "fig, ax = plt.subplots(figsize=(6,2.5))\n",
    "_ = ax.scatter(residual, pred_val)"
   ]
  },
  {
   "cell_type": "markdown",
   "metadata": {},
   "source": [
    "*uh oh, the residuals do not look random and they do not draw a straight line across! May be in danger of violating homoscedasticity*"
   ]
  },
  {
   "cell_type": "code",
   "execution_count": 13,
   "metadata": {},
   "outputs": [
    {
     "data": {
      "text/plain": [
       "(40.91347158491758, nan, 18913.311446163258, 3.855944268699516e-55)"
      ]
     },
     "execution_count": 13,
     "metadata": {},
     "output_type": "execute_result"
    }
   ],
   "source": [
    "sms.diagnostic.het_breuschpagan(residual, heights[['AM_Height']])"
   ]
  },
  {
   "cell_type": "markdown",
   "metadata": {},
   "source": [
    "*Have definitely violated the assumption of homoscedasticity, since this p-value is significant*"
   ]
  },
  {
   "cell_type": "code",
   "execution_count": 14,
   "metadata": {},
   "outputs": [
    {
     "data": {
      "text/plain": [
       "Ttest_1sampResult(statistic=-0.004476102027668708, pvalue=0.9964526463757002)"
      ]
     },
     "execution_count": 14,
     "metadata": {},
     "output_type": "execute_result"
    }
   ],
   "source": [
    "sms.linear_harvey_collier(model)"
   ]
  },
  {
   "cell_type": "markdown",
   "metadata": {},
   "source": [
    "*Going by this one, it looks like the assumption hasn't been violated, but should still try to fix it because both the graph and BP are showing issues*"
   ]
  },
  {
   "cell_type": "code",
   "execution_count": 15,
   "metadata": {},
   "outputs": [],
   "source": [
    "transformed, _ = boxcox(heights['AM_Height'])"
   ]
  },
  {
   "cell_type": "code",
   "execution_count": 16,
   "metadata": {},
   "outputs": [
    {
     "data": {
      "text/plain": [
       "(array([1., 1., 4., 6., 4., 9., 7., 3., 3., 3.]),\n",
       " array([5.21051984e+11, 5.92350980e+11, 6.63649976e+11, 7.34948973e+11,\n",
       "        8.06247969e+11, 8.77546965e+11, 9.48845961e+11, 1.02014496e+12,\n",
       "        1.09144395e+12, 1.16274295e+12, 1.23404195e+12]),\n",
       " <a list of 10 Patch objects>)"
      ]
     },
     "execution_count": 16,
     "metadata": {},
     "output_type": "execute_result"
    },
    {
     "data": {
      "image/png": "[encoded data removed]",
      "text/plain": [
       "<Figure size 432x288 with 1 Axes>"
      ]
     },
     "metadata": {},
     "output_type": "display_data"
    }
   ],
   "source": [
    "plt.hist(transformed)"
   ]
  },
  {
   "cell_type": "code",
   "execution_count": 17,
   "metadata": {},
   "outputs": [],
   "source": [
    "x = transformed\n",
    "model1 = sm.OLS(y,x).fit()"
   ]
  },
  {
   "cell_type": "code",
   "execution_count": 18,
   "metadata": {},
   "outputs": [],
   "source": [
    "pred_val = model1.fittedvalues.copy()\n",
    "true_val = heights['PM_Height'].values.copy()\n",
    "residual = true_val - pred_val"
   ]
  },
  {
   "cell_type": "code",
   "execution_count": 19,
   "metadata": {},
   "outputs": [
    {
     "data": {
      "image/png": "[encoded data removed]",
      "text/plain": [
       "<Figure size 432x180 with 1 Axes>"
      ]
     },
     "metadata": {},
     "output_type": "display_data"
    }
   ],
   "source": [
    "fig, ax = plt.subplots(figsize=(6,2.5))\n",
    "_ = ax.scatter(residual, pred_val)"
   ]
  },
  {
   "cell_type": "code",
   "execution_count": 20,
   "metadata": {},
   "outputs": [
    {
     "data": {
      "text/plain": [
       "(16.089419670833138, nan, 25.83547947615599, 9.088972472122716e-06)"
      ]
     },
     "execution_count": 20,
     "metadata": {},
     "output_type": "execute_result"
    }
   ],
   "source": [
    "sms.diagnostic.het_breuschpagan(residual, heights[['AM_Height']])"
   ]
  },
  {
   "cell_type": "code",
   "execution_count": 21,
   "metadata": {},
   "outputs": [
    {
     "data": {
      "text/plain": [
       "Ttest_1sampResult(statistic=-0.004476102027668708, pvalue=0.9964526463757002)"
      ]
     },
     "execution_count": 21,
     "metadata": {},
     "output_type": "execute_result"
    }
   ],
   "source": [
    "sms.linear_harvey_collier(model)"
   ]
  },
  {
   "cell_type": "markdown",
   "metadata": {},
   "source": [
    "*Things are still not looking great, but proceed for learning purposes!*"
   ]
  },
  {
   "cell_type": "markdown",
   "metadata": {},
   "source": [
    "### Screening for Outliers"
   ]
  },
  {
   "cell_type": "code",
   "execution_count": 22,
   "metadata": {},
   "outputs": [
    {
     "data": {
      "image/png": "[encoded data removed]",
      "text/plain": [
       "<Figure size 864x576 with 1 Axes>"
      ]
     },
     "metadata": {},
     "output_type": "display_data"
    }
   ],
   "source": [
    "fig, ax = plt.subplots(figsize=(12,8))\n",
    "fig = sm.graphics.influence_plot(model, alpha = .05, ax = ax, criterion=\"cooks\")"
   ]
  },
  {
   "cell_type": "markdown",
   "metadata": {},
   "source": [
    "*In the plot above, it looks like number 36 is a problem*"
   ]
  },
  {
   "cell_type": "code",
   "execution_count": 23,
   "metadata": {},
   "outputs": [
    {
     "name": "stdout",
     "output_type": "stream",
     "text": [
      "    dfb_AM_Height   cooks_d  standard_resid  hat_diag  dffits_internal  \\\n",
      "0        0.085810  0.007499        0.532882  0.025727         0.086594   \n",
      "1       -0.052524  0.002820       -0.368264  0.020370        -0.053103   \n",
      "2       -0.072577  0.005364       -0.534832  0.018407        -0.073238   \n",
      "3        0.276961  0.073531        1.617035  0.027352         0.271167   \n",
      "4        0.352303  0.112733        2.139438  0.024037         0.335757   \n",
      "5       -0.096874  0.009521       -0.657675  0.021538        -0.097576   \n",
      "6        0.018976  0.000369        0.122229  0.024116         0.019215   \n",
      "7       -0.214747  0.045255       -1.314577  0.025519        -0.212733   \n",
      "8       -0.064154  0.004203       -0.419385  0.023338        -0.064829   \n",
      "9       -0.113058  0.012961       -0.674508  0.027698        -0.113845   \n",
      "10      -0.053609  0.002940       -0.315564  0.028680        -0.054224   \n",
      "11      -0.281081  0.075697       -1.622878  0.027938        -0.275131   \n",
      "12      -0.176694  0.031094       -1.076336  0.026138        -0.176335   \n",
      "13       0.051448  0.002708        0.321793  0.025482         0.052036   \n",
      "14      -0.069542  0.004937       -0.432515  0.025712        -0.070263   \n",
      "15      -0.061409  0.003854       -0.376442  0.026477        -0.062081   \n",
      "16       0.068905  0.004847        0.429265  0.025631         0.069622   \n",
      "17       0.197095  0.038152        1.302835  0.021983         0.195325   \n",
      "18       0.049691  0.002527        0.304353  0.026552         0.050266   \n",
      "19      -0.116371  0.013697       -0.744374  0.024124        -0.117035   \n",
      "20      -0.127685  0.016448       -0.808408  0.024551        -0.128251   \n",
      "21       0.115690  0.013543        0.733538  0.024551         0.116373   \n",
      "22       0.117388  0.013921        0.775677  0.022613         0.117986   \n",
      "23      -0.069366  0.004911       -0.444341  0.024268        -0.070076   \n",
      "24       0.106184  0.011410        0.731524  0.020876         0.106815   \n",
      "25       0.106885  0.011585        0.672029  0.025011         0.107634   \n",
      "26      -0.267326  0.067992       -1.701377  0.022949        -0.260752   \n",
      "27       0.207019  0.041879        1.374662  0.021681         0.204644   \n",
      "28       0.050733  0.002632        0.342039  0.022004         0.051304   \n",
      "29       0.019950  0.000408        0.135231  0.021825         0.020200   \n",
      "30      -0.025939  0.000690       -0.162498  0.025453        -0.026261   \n",
      "31      -0.141910  0.020293       -0.837400  0.028125        -0.142453   \n",
      "32       0.289778  0.078820        1.841953  0.022704         0.280748   \n",
      "33      -0.061292  0.003839       -0.386660  0.025033        -0.061957   \n",
      "34       0.180001  0.032174        1.127905  0.024667         0.179372   \n",
      "35      -0.195752  0.037993       -1.153862  0.027745        -0.194919   \n",
      "36      -0.332523  0.101338       -2.063200  0.023253        -0.318336   \n",
      "37       0.035225  0.001271        0.226301  0.024217         0.035651   \n",
      "38       0.190039  0.035661        1.220690  0.023373         0.188842   \n",
      "39      -0.145641  0.021255       -0.958932  0.022592        -0.145791   \n",
      "40       0.229833  0.051530        1.397967  0.025690         0.227003   \n",
      "\n",
      "    student_resid    dffits  \n",
      "0        0.528056  0.085810  \n",
      "1       -0.364250 -0.052524  \n",
      "2       -0.530003 -0.072577  \n",
      "3        1.651589  0.276961  \n",
      "4        2.244866  0.352303  \n",
      "5       -0.652942 -0.096874  \n",
      "6        0.120714  0.018976  \n",
      "7       -1.327023 -0.214747  \n",
      "8       -0.415023 -0.064154  \n",
      "9       -0.669843 -0.113058  \n",
      "10      -0.311983 -0.053609  \n",
      "11      -1.657977 -0.281081  \n",
      "12      -1.078530 -0.176694  \n",
      "13       0.318157  0.051448  \n",
      "14      -0.428077 -0.069542  \n",
      "15      -0.372366 -0.061409  \n",
      "16       0.424845  0.068905  \n",
      "17       1.314642  0.197095  \n",
      "18       0.300873  0.049691  \n",
      "19      -0.740155 -0.116371  \n",
      "20      -0.804841 -0.127685  \n",
      "21       0.729232  0.115690  \n",
      "22       0.771746  0.117388  \n",
      "23      -0.439838 -0.069366  \n",
      "24       0.727202  0.106184  \n",
      "25       0.667353  0.106885  \n",
      "26      -1.744275 -0.267326  \n",
      "27       1.390615  0.207019  \n",
      "28       0.338231  0.050733  \n",
      "29       0.133560  0.019950  \n",
      "30      -0.160507 -0.025939  \n",
      "31      -0.834211 -0.141910  \n",
      "32       1.901199  0.289778  \n",
      "33      -0.382512 -0.061292  \n",
      "34       1.131861  0.180001  \n",
      "35      -1.158796 -0.195752  \n",
      "36      -2.155147 -0.332523  \n",
      "37       0.223598  0.035225  \n",
      "38       1.228432  0.190039  \n",
      "39      -0.957945 -0.145641  \n",
      "40       1.415392  0.229833  \n"
     ]
    }
   ],
   "source": [
    "infl = model.get_influence()\n",
    "print(infl.summary_frame())"
   ]
  },
  {
   "cell_type": "markdown",
   "metadata": {},
   "source": [
    "### Try a new model without row 36"
   ]
  },
  {
   "cell_type": "code",
   "execution_count": 29,
   "metadata": {},
   "outputs": [],
   "source": [
    "heights.drop(heights.index[36], inplace=True)"
   ]
  },
  {
   "cell_type": "code",
   "execution_count": 31,
   "metadata": {},
   "outputs": [],
   "source": [
    "x = heights['AM_Height']\n",
    "y = heights['PM_Height']"
   ]
  },
  {
   "cell_type": "code",
   "execution_count": 32,
   "metadata": {},
   "outputs": [],
   "source": [
    "modelNoO = sm.OLS(y,x).fit()"
   ]
  },
  {
   "cell_type": "markdown",
   "metadata": {},
   "source": [
    "## Compare and Interpret the Original Model Compared to the One without Ouliers"
   ]
  },
  {
   "cell_type": "code",
   "execution_count": 33,
   "metadata": {},
   "outputs": [
    {
     "data": {
      "text/html": [
       "<table class=\"simpletable\">\n",
       "<caption>OLS Regression Results</caption>\n",
       "<tr>\n",
       "  <th>Dep. Variable:</th>        <td>PM_Height</td>    <th>  R-squared:         </th> <td>   1.000</td> \n",
       "</tr>\n",
       "<tr>\n",
       "  <th>Model:</th>                   <td>OLS</td>       <th>  Adj. R-squared:    </th> <td>   1.000</td> \n",
       "</tr>\n",
       "<tr>\n",
       "  <th>Method:</th>             <td>Least Squares</td>  <th>  F-statistic:       </th> <td>1.665e+07</td>\n",
       "</tr>\n",
       "<tr>\n",
       "  <th>Date:</th>             <td>Wed, 21 Aug 2019</td> <th>  Prob (F-statistic):</th> <td>5.17e-114</td>\n",
       "</tr>\n",
       "<tr>\n",
       "  <th>Time:</th>                 <td>13:55:39</td>     <th>  Log-Likelihood:    </th> <td> -97.263</td> \n",
       "</tr>\n",
       "<tr>\n",
       "  <th>No. Observations:</th>      <td>    41</td>      <th>  AIC:               </th> <td>   196.5</td> \n",
       "</tr>\n",
       "<tr>\n",
       "  <th>Df Residuals:</th>          <td>    40</td>      <th>  BIC:               </th> <td>   198.2</td> \n",
       "</tr>\n",
       "<tr>\n",
       "  <th>Df Model:</th>              <td>     1</td>      <th>                     </th>     <td> </td>    \n",
       "</tr>\n",
       "<tr>\n",
       "  <th>Covariance Type:</th>      <td>nonrobust</td>    <th>                     </th>     <td> </td>    \n",
       "</tr>\n",
       "</table>\n",
       "<table class=\"simpletable\">\n",
       "<tr>\n",
       "      <td></td>         <th>coef</th>     <th>std err</th>      <th>t</th>      <th>P>|t|</th>  <th>[0.025</th>    <th>0.975]</th>  \n",
       "</tr>\n",
       "<tr>\n",
       "  <th>AM_Height</th> <td>    0.9943</td> <td>    0.000</td> <td> 4079.964</td> <td> 0.000</td> <td>    0.994</td> <td>    0.995</td>\n",
       "</tr>\n",
       "</table>\n",
       "<table class=\"simpletable\">\n",
       "<tr>\n",
       "  <th>Omnibus:</th>       <td> 0.817</td> <th>  Durbin-Watson:     </th> <td>   2.057</td>\n",
       "</tr>\n",
       "<tr>\n",
       "  <th>Prob(Omnibus):</th> <td> 0.665</td> <th>  Jarque-Bera (JB):  </th> <td>   0.817</td>\n",
       "</tr>\n",
       "<tr>\n",
       "  <th>Skew:</th>          <td> 0.133</td> <th>  Prob(JB):          </th> <td>   0.665</td>\n",
       "</tr>\n",
       "<tr>\n",
       "  <th>Kurtosis:</th>      <td> 2.362</td> <th>  Cond. No.          </th> <td>    1.00</td>\n",
       "</tr>\n",
       "</table><br/><br/>Warnings:<br/>[1] Standard Errors assume that the covariance matrix of the errors is correctly specified."
      ],
      "text/plain": [
       "<class 'statsmodels.iolib.summary.Summary'>\n",
       "\"\"\"\n",
       "                            OLS Regression Results                            \n",
       "==============================================================================\n",
       "Dep. Variable:              PM_Height   R-squared:                       1.000\n",
       "Model:                            OLS   Adj. R-squared:                  1.000\n",
       "Method:                 Least Squares   F-statistic:                 1.665e+07\n",
       "Date:                Wed, 21 Aug 2019   Prob (F-statistic):          5.17e-114\n",
       "Time:                        13:55:39   Log-Likelihood:                -97.263\n",
       "No. Observations:                  41   AIC:                             196.5\n",
       "Df Residuals:                      40   BIC:                             198.2\n",
       "Df Model:                           1                                         \n",
       "Covariance Type:            nonrobust                                         \n",
       "==============================================================================\n",
       "                 coef    std err          t      P>|t|      [0.025      0.975]\n",
       "------------------------------------------------------------------------------\n",
       "AM_Height      0.9943      0.000   4079.964      0.000       0.994       0.995\n",
       "==============================================================================\n",
       "Omnibus:                        0.817   Durbin-Watson:                   2.057\n",
       "Prob(Omnibus):                  0.665   Jarque-Bera (JB):                0.817\n",
       "Skew:                           0.133   Prob(JB):                        0.665\n",
       "Kurtosis:                       2.362   Cond. No.                         1.00\n",
       "==============================================================================\n",
       "\n",
       "Warnings:\n",
       "[1] Standard Errors assume that the covariance matrix of the errors is correctly specified.\n",
       "\"\"\""
      ]
     },
     "execution_count": 33,
     "metadata": {},
     "output_type": "execute_result"
    }
   ],
   "source": [
    "model.summary()"
   ]
  },
  {
   "cell_type": "code",
   "execution_count": 34,
   "metadata": {},
   "outputs": [
    {
     "data": {
      "text/html": [
       "<table class=\"simpletable\">\n",
       "<caption>OLS Regression Results</caption>\n",
       "<tr>\n",
       "  <th>Dep. Variable:</th>        <td>PM_Height</td>    <th>  R-squared:         </th> <td>   1.000</td> \n",
       "</tr>\n",
       "<tr>\n",
       "  <th>Model:</th>                   <td>OLS</td>       <th>  Adj. R-squared:    </th> <td>   1.000</td> \n",
       "</tr>\n",
       "<tr>\n",
       "  <th>Method:</th>             <td>Least Squares</td>  <th>  F-statistic:       </th> <td>1.687e+07</td>\n",
       "</tr>\n",
       "<tr>\n",
       "  <th>Date:</th>             <td>Wed, 21 Aug 2019</td> <th>  Prob (F-statistic):</th> <td>6.42e-109</td>\n",
       "</tr>\n",
       "<tr>\n",
       "  <th>Time:</th>                 <td>13:55:50</td>     <th>  Log-Likelihood:    </th> <td> -91.283</td> \n",
       "</tr>\n",
       "<tr>\n",
       "  <th>No. Observations:</th>      <td>    39</td>      <th>  AIC:               </th> <td>   184.6</td> \n",
       "</tr>\n",
       "<tr>\n",
       "  <th>Df Residuals:</th>          <td>    38</td>      <th>  BIC:               </th> <td>   186.2</td> \n",
       "</tr>\n",
       "<tr>\n",
       "  <th>Df Model:</th>              <td>     1</td>      <th>                     </th>     <td> </td>    \n",
       "</tr>\n",
       "<tr>\n",
       "  <th>Covariance Type:</th>      <td>nonrobust</td>    <th>                     </th>     <td> </td>    \n",
       "</tr>\n",
       "</table>\n",
       "<table class=\"simpletable\">\n",
       "<tr>\n",
       "      <td></td>         <th>coef</th>     <th>std err</th>      <th>t</th>      <th>P>|t|</th>  <th>[0.025</th>    <th>0.975]</th>  \n",
       "</tr>\n",
       "<tr>\n",
       "  <th>AM_Height</th> <td>    0.9944</td> <td>    0.000</td> <td> 4107.810</td> <td> 0.000</td> <td>    0.994</td> <td>    0.995</td>\n",
       "</tr>\n",
       "</table>\n",
       "<table class=\"simpletable\">\n",
       "<tr>\n",
       "  <th>Omnibus:</th>       <td> 1.901</td> <th>  Durbin-Watson:     </th> <td>   2.266</td>\n",
       "</tr>\n",
       "<tr>\n",
       "  <th>Prob(Omnibus):</th> <td> 0.386</td> <th>  Jarque-Bera (JB):  </th> <td>   1.416</td>\n",
       "</tr>\n",
       "<tr>\n",
       "  <th>Skew:</th>          <td> 0.257</td> <th>  Prob(JB):          </th> <td>   0.493</td>\n",
       "</tr>\n",
       "<tr>\n",
       "  <th>Kurtosis:</th>      <td> 2.221</td> <th>  Cond. No.          </th> <td>    1.00</td>\n",
       "</tr>\n",
       "</table><br/><br/>Warnings:<br/>[1] Standard Errors assume that the covariance matrix of the errors is correctly specified."
      ],
      "text/plain": [
       "<class 'statsmodels.iolib.summary.Summary'>\n",
       "\"\"\"\n",
       "                            OLS Regression Results                            \n",
       "==============================================================================\n",
       "Dep. Variable:              PM_Height   R-squared:                       1.000\n",
       "Model:                            OLS   Adj. R-squared:                  1.000\n",
       "Method:                 Least Squares   F-statistic:                 1.687e+07\n",
       "Date:                Wed, 21 Aug 2019   Prob (F-statistic):          6.42e-109\n",
       "Time:                        13:55:50   Log-Likelihood:                -91.283\n",
       "No. Observations:                  39   AIC:                             184.6\n",
       "Df Residuals:                      38   BIC:                             186.2\n",
       "Df Model:                           1                                         \n",
       "Covariance Type:            nonrobust                                         \n",
       "==============================================================================\n",
       "                 coef    std err          t      P>|t|      [0.025      0.975]\n",
       "------------------------------------------------------------------------------\n",
       "AM_Height      0.9944      0.000   4107.810      0.000       0.994       0.995\n",
       "==============================================================================\n",
       "Omnibus:                        1.901   Durbin-Watson:                   2.266\n",
       "Prob(Omnibus):                  0.386   Jarque-Bera (JB):                1.416\n",
       "Skew:                           0.257   Prob(JB):                        0.493\n",
       "Kurtosis:                       2.221   Cond. No.                         1.00\n",
       "==============================================================================\n",
       "\n",
       "Warnings:\n",
       "[1] Standard Errors assume that the covariance matrix of the errors is correctly specified.\n",
       "\"\"\""
      ]
     },
     "execution_count": 34,
     "metadata": {},
     "output_type": "execute_result"
    }
   ],
   "source": [
    "modelNoO.summary()"
   ]
  },
  {
   "cell_type": "markdown",
   "metadata": {},
   "source": [
    "*Looks like they are both significant with very little differences, so you're good to use the original model*"
   ]
  },
  {
   "cell_type": "code",
   "execution_count": null,
   "metadata": {},
   "outputs": [],
   "source": []
  }
 ],
 "metadata": {
  "kernelspec": {
   "display_name": "Python 3 (ipykernel)",
   "language": "python",
   "name": "python3"
  },
  "language_info": {
   "codemirror_mode": {
    "name": "ipython",
    "version": 3
   },
   "file_extension": ".py",
   "mimetype": "text/x-python",
   "name": "python",
   "nbconvert_exporter": "python",
   "pygments_lexer": "ipython3",
   "version": "3.9.13"
  }
 },
 "nbformat": 4,
 "nbformat_minor": 4
}
